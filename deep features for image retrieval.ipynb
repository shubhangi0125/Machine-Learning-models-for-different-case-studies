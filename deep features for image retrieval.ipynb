{
 "cells": [
  {
   "cell_type": "code",
   "execution_count": 74,
   "metadata": {},
   "outputs": [],
   "source": [
    "import turicreate"
   ]
  },
  {
   "cell_type": "code",
   "execution_count": null,
   "metadata": {},
   "outputs": [],
   "source": [
    "##load image train and test data "
   ]
  },
  {
   "cell_type": "code",
   "execution_count": 75,
   "metadata": {},
   "outputs": [],
   "source": [
    "train_data=turicreate.SFrame('~/image_train_data')\n",
    "test_data=turicreate.SFrame('~/image_test_data')"
   ]
  },
  {
   "cell_type": "code",
   "execution_count": 76,
   "metadata": {},
   "outputs": [],
   "source": [
    "train_data_copy=train_data.copy()\n",
    "test_data_copy=test_data.copy()"
   ]
  },
  {
   "cell_type": "code",
   "execution_count": 77,
   "metadata": {},
   "outputs": [
    {
     "data": {
      "text/html": [
       "<div style=\"max-height:1000px;max-width:1500px;overflow:auto;\"><table frame=\"box\" rules=\"cols\">\n",
       "    <tr>\n",
       "        <th style=\"padding-left: 1em; padding-right: 1em; text-align: center\">id</th>\n",
       "        <th style=\"padding-left: 1em; padding-right: 1em; text-align: center\">image</th>\n",
       "        <th style=\"padding-left: 1em; padding-right: 1em; text-align: center\">label</th>\n",
       "        <th style=\"padding-left: 1em; padding-right: 1em; text-align: center\">deep_features</th>\n",
       "        <th style=\"padding-left: 1em; padding-right: 1em; text-align: center\">image_array</th>\n",
       "    </tr>\n",
       "    <tr>\n",
       "        <td style=\"padding-left: 1em; padding-right: 1em; text-align: center; vertical-align: top\">24</td>\n",
       "        <td style=\"padding-left: 1em; padding-right: 1em; text-align: center; vertical-align: top\">Height: 32 Width: 32</td>\n",
       "        <td style=\"padding-left: 1em; padding-right: 1em; text-align: center; vertical-align: top\">bird</td>\n",
       "        <td style=\"padding-left: 1em; padding-right: 1em; text-align: center; vertical-align: top\">[0.24287176132202148,<br>1.0954537391662598, 0.0, ...</td>\n",
       "        <td style=\"padding-left: 1em; padding-right: 1em; text-align: center; vertical-align: top\">[73.0, 77.0, 58.0, 71.0,<br>68.0, 50.0, 77.0, 69.0, ...</td>\n",
       "    </tr>\n",
       "    <tr>\n",
       "        <td style=\"padding-left: 1em; padding-right: 1em; text-align: center; vertical-align: top\">33</td>\n",
       "        <td style=\"padding-left: 1em; padding-right: 1em; text-align: center; vertical-align: top\">Height: 32 Width: 32</td>\n",
       "        <td style=\"padding-left: 1em; padding-right: 1em; text-align: center; vertical-align: top\">cat</td>\n",
       "        <td style=\"padding-left: 1em; padding-right: 1em; text-align: center; vertical-align: top\">[0.5250879526138306, 0.0,<br>0.0, 0.0, 0.0, 0.0, ...</td>\n",
       "        <td style=\"padding-left: 1em; padding-right: 1em; text-align: center; vertical-align: top\">[7.0, 5.0, 8.0, 7.0, 5.0,<br>8.0, 5.0, 4.0, 6.0, 7.0, ...</td>\n",
       "    </tr>\n",
       "    <tr>\n",
       "        <td style=\"padding-left: 1em; padding-right: 1em; text-align: center; vertical-align: top\">36</td>\n",
       "        <td style=\"padding-left: 1em; padding-right: 1em; text-align: center; vertical-align: top\">Height: 32 Width: 32</td>\n",
       "        <td style=\"padding-left: 1em; padding-right: 1em; text-align: center; vertical-align: top\">cat</td>\n",
       "        <td style=\"padding-left: 1em; padding-right: 1em; text-align: center; vertical-align: top\">[0.5660159587860107, 0.0,<br>0.0, 0.0, 0.0, 0.0, ...</td>\n",
       "        <td style=\"padding-left: 1em; padding-right: 1em; text-align: center; vertical-align: top\">[169.0, 122.0, 65.0,<br>131.0, 108.0, 75.0, ...</td>\n",
       "    </tr>\n",
       "</table>\n",
       "[3 rows x 5 columns]<br/>\n",
       "</div>"
      ],
      "text/plain": [
       "Columns:\n",
       "\tid\tint\n",
       "\timage\tImage\n",
       "\tlabel\tstr\n",
       "\tdeep_features\tarray\n",
       "\timage_array\tarray\n",
       "\n",
       "Rows: 3\n",
       "\n",
       "Data:\n",
       "+----+----------------------+-------+-------------------------------+\n",
       "| id |        image         | label |         deep_features         |\n",
       "+----+----------------------+-------+-------------------------------+\n",
       "| 24 | Height: 32 Width: 32 |  bird | [0.24287176132202148, 1.09... |\n",
       "| 33 | Height: 32 Width: 32 |  cat  | [0.5250879526138306, 0.0, ... |\n",
       "| 36 | Height: 32 Width: 32 |  cat  | [0.5660159587860107, 0.0, ... |\n",
       "+----+----------------------+-------+-------------------------------+\n",
       "+-------------------------------+\n",
       "|          image_array          |\n",
       "+-------------------------------+\n",
       "| [73.0, 77.0, 58.0, 71.0, 6... |\n",
       "| [7.0, 5.0, 8.0, 7.0, 5.0, ... |\n",
       "| [169.0, 122.0, 65.0, 131.0... |\n",
       "+-------------------------------+\n",
       "[3 rows x 5 columns]"
      ]
     },
     "execution_count": 77,
     "metadata": {},
     "output_type": "execute_result"
    }
   ],
   "source": [
    "train_data_copy.head(3)"
   ]
  },
  {
   "cell_type": "code",
   "execution_count": null,
   "metadata": {},
   "outputs": [],
   "source": [
    "##model building for similar image retrieval"
   ]
  },
  {
   "cell_type": "code",
   "execution_count": 78,
   "metadata": {},
   "outputs": [
    {
     "data": {
      "text/html": [
       "<pre>Starting brute force nearest neighbors model training.</pre>"
      ],
      "text/plain": [
       "Starting brute force nearest neighbors model training."
      ]
     },
     "metadata": {},
     "output_type": "display_data"
    }
   ],
   "source": [
    "knn_model=turicreate.nearest_neighbors.create(train_data_copy,features=['deep_features'],label='id')"
   ]
  },
  {
   "cell_type": "code",
   "execution_count": null,
   "metadata": {},
   "outputs": [],
   "source": [
    "##retrieving similar images to first image(bird)"
   ]
  },
  {
   "cell_type": "code",
   "execution_count": 79,
   "metadata": {},
   "outputs": [],
   "source": [
    "bird=train_data_copy[0:1]"
   ]
  },
  {
   "cell_type": "code",
   "execution_count": 80,
   "metadata": {},
   "outputs": [
    {
     "data": {
      "text/html": [
       "<html lang=\"en\">                                                     <head>                                                               <style>                                                              .sframe {                                                            font-size: 12px;                                                   font-family: HelveticaNeue;                                        border: 1px solid silver;                                        }                                                                  .sframe thead th {                                                   background: #F7F7F7;                                               font-family: HelveticaNeue-Medium;                                 font-size: 14px;                                                   line-height: 16.8px;                                               padding-top: 16px;                                                 padding-bottom: 16px;                                              padding-left: 10px;                                                padding-right: 38px;                                               border-top: 1px solid #E9E9E9;                                     border-bottom: 1px solid #E9E9E9;                                  white-space: nowrap;                                               overflow: hidden;                                                  text-overflow:ellipsis;                                            text-align:center;                                                 font-weight:normal;                                              }                                                                  .sframe tbody th {                                                   background: #FFFFFF;                                               text-align:left;                                                   font-weight:normal;                                                border-right: 1px solid #E9E9E9;                                 }                                                                  .sframe td {                                                         background: #FFFFFF;                                               padding-left: 10px;                                                padding-right: 38px;                                               padding-top: 14px;                                                 padding-bottom: 14px;                                              border-bottom: 1px solid #E9E9E9;                                  max-height: 0px;                                                   transition: max-height 5s ease-out;                                vertical-align: middle;                                            font-family: HelveticaNeue;                                        font-size: 12px;                                                   line-height: 16.8px;                                               background: #FFFFFF;                                             }                                                                  .sframe tr {                                                         padding-left: 10px;                                                padding-right: 38px;                                               padding-top: 14px;                                                 padding-bottom: 14px;                                              border-bottom: 1px solid #E9E9E9;                                  max-height: 0px;                                                   transition: max-height 5s ease-out;                                vertical-align: middle;                                            font-family: HelveticaNeue;                                        font-size: 12px;                                                   line-height: 16.8px;                                               background: #FFFFFF;                                             }                                                                  .sframe tr:hover {                                                   background: silver;                                              },                                                               </style>                                                         </head>                                                            <body>                                                               <h1>  </h1>                                             <table border=\"1\" class=\"dataframe sframe\">\n",
       "  <thead>\n",
       "    <tr style=\"text-align: right;\">\n",
       "      <th></th>\n",
       "      <th>SArray</th>\n",
       "    </tr>\n",
       "  </thead>\n",
       "  <tbody>\n",
       "    <tr>\n",
       "      <th>0</th>\n",
       "      <td><img src=\"data:image/png;base64,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\"/></td>\n",
       "    </tr>\n",
       "  </tbody>\n",
       "</table>                          </body>                                                          </html>"
      ],
      "text/plain": [
       "<IPython.core.display.HTML object>"
      ]
     },
     "metadata": {},
     "output_type": "display_data"
    }
   ],
   "source": [
    "bird['image'].explore()"
   ]
  },
  {
   "cell_type": "code",
   "execution_count": 81,
   "metadata": {},
   "outputs": [],
   "source": [
    "def get_images_from_ids(query_result):\n",
    "    return train_data_copy.filter_by(query_result['reference_label'],'id')"
   ]
  },
  {
   "cell_type": "code",
   "execution_count": 82,
   "metadata": {},
   "outputs": [
    {
     "data": {
      "text/html": [
       "<pre>Starting pairwise querying.</pre>"
      ],
      "text/plain": [
       "Starting pairwise querying."
      ]
     },
     "metadata": {},
     "output_type": "display_data"
    },
    {
     "data": {
      "text/html": [
       "<pre>+--------------+---------+-------------+--------------+</pre>"
      ],
      "text/plain": [
       "+--------------+---------+-------------+--------------+"
      ]
     },
     "metadata": {},
     "output_type": "display_data"
    },
    {
     "data": {
      "text/html": [
       "<pre>| Query points | # Pairs | % Complete. | Elapsed Time |</pre>"
      ],
      "text/plain": [
       "| Query points | # Pairs | % Complete. | Elapsed Time |"
      ]
     },
     "metadata": {},
     "output_type": "display_data"
    },
    {
     "data": {
      "text/html": [
       "<pre>+--------------+---------+-------------+--------------+</pre>"
      ],
      "text/plain": [
       "+--------------+---------+-------------+--------------+"
      ]
     },
     "metadata": {},
     "output_type": "display_data"
    },
    {
     "data": {
      "text/html": [
       "<pre>| 0            | 1       | 0.0498753   | 9.172ms      |</pre>"
      ],
      "text/plain": [
       "| 0            | 1       | 0.0498753   | 9.172ms      |"
      ]
     },
     "metadata": {},
     "output_type": "display_data"
    },
    {
     "data": {
      "text/html": [
       "<pre>| Done         |         | 100         | 187.007ms    |</pre>"
      ],
      "text/plain": [
       "| Done         |         | 100         | 187.007ms    |"
      ]
     },
     "metadata": {},
     "output_type": "display_data"
    },
    {
     "data": {
      "text/html": [
       "<pre>+--------------+---------+-------------+--------------+</pre>"
      ],
      "text/plain": [
       "+--------------+---------+-------------+--------------+"
      ]
     },
     "metadata": {},
     "output_type": "display_data"
    }
   ],
   "source": [
    "bird_neighbors = get_images_from_ids(knn_model.query(bird))"
   ]
  },
  {
   "cell_type": "code",
   "execution_count": 83,
   "metadata": {},
   "outputs": [
    {
     "data": {
      "text/html": [
       "<html lang=\"en\">                                                     <head>                                                               <style>                                                              .sframe {                                                            font-size: 12px;                                                   font-family: HelveticaNeue;                                        border: 1px solid silver;                                        }                                                                  .sframe thead th {                                                   background: #F7F7F7;                                               font-family: HelveticaNeue-Medium;                                 font-size: 14px;                                                   line-height: 16.8px;                                               padding-top: 16px;                                                 padding-bottom: 16px;                                              padding-left: 10px;                                                padding-right: 38px;                                               border-top: 1px solid #E9E9E9;                                     border-bottom: 1px solid #E9E9E9;                                  white-space: nowrap;                                               overflow: hidden;                                                  text-overflow:ellipsis;                                            text-align:center;                                                 font-weight:normal;                                              }                                                                  .sframe tbody th {                                                   background: #FFFFFF;                                               text-align:left;                                                   font-weight:normal;                                                border-right: 1px solid #E9E9E9;                                 }                                                                  .sframe td {                                                         background: #FFFFFF;                                               padding-left: 10px;                                                padding-right: 38px;                                               padding-top: 14px;                                                 padding-bottom: 14px;                                              border-bottom: 1px solid #E9E9E9;                                  max-height: 0px;                                                   transition: max-height 5s ease-out;                                vertical-align: middle;                                            font-family: HelveticaNeue;                                        font-size: 12px;                                                   line-height: 16.8px;                                               background: #FFFFFF;                                             }                                                                  .sframe tr {                                                         padding-left: 10px;                                                padding-right: 38px;                                               padding-top: 14px;                                                 padding-bottom: 14px;                                              border-bottom: 1px solid #E9E9E9;                                  max-height: 0px;                                                   transition: max-height 5s ease-out;                                vertical-align: middle;                                            font-family: HelveticaNeue;                                        font-size: 12px;                                                   line-height: 16.8px;                                               background: #FFFFFF;                                             }                                                                  .sframe tr:hover {                                                   background: silver;                                              },                                                               </style>                                                         </head>                                                            <body>                                                               <h1>  </h1>                                             <table border=\"1\" class=\"dataframe sframe\">\n",
       "  <thead>\n",
       "    <tr style=\"text-align: right;\">\n",
       "      <th></th>\n",
       "      <th>SArray</th>\n",
       "    </tr>\n",
       "  </thead>\n",
       "  <tbody>\n",
       "    <tr>\n",
       "      <th>0</th>\n",
       "      <td><img src=\"data:image/png;base64,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\"/></td>\n",
       "    </tr>\n",
       "    <tr>\n",
       "      <th>1</th>\n",
       "      <td><img src=\"data:image/png;base64,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\"/></td>\n",
       "    </tr>\n",
       "    <tr>\n",
       "      <th>2</th>\n",
       "      <td><img src=\"data:image/png;base64,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\"/></td>\n",
       "    </tr>\n",
       "    <tr>\n",
       "      <th>3</th>\n",
       "      <td><img src=\"data:image/png;base64,iVBORw0KGgoAAAANSUhEUgAAACAAAAAgCAIAAAD8GO2jAAAJVElEQVR4nDXR2Y4c13nA8e8stXdXb9MzwyFH5ESkFkKiIsUxHCNBkEABAuQqQQzkgfIGeZDcxL4xYNhyIlEKaYsQRWY0w2X2md6qu6pOnf07vgj0e4T/n/zH1/+eMF63GyMU50QK6xEnvdHf3f/8XnlPWf3k5f8c1m8s8fkgTpIoD3FtdNt1RunxsLxf3hlhtArNrF3P1xuacOmVtJpS9Cy2zvG2qhZognSo3P1ocNZKnfKH00+38XZ9ckxo+Gz/J+Mqf7p+0UjpEB/ceWjnp4ZiEtOdYrhYro5kS3IujaJJ5BFRBwJMY4faNK3mJY4iZ3zqgQu71BFJs7wc0cH5yRVVszt9GnN6QNNVduuFv9gpb8UIUm8G49zb6Ga9tDaEiMZZTCkGo1PGJjvbtRXGsWBYRDqugymSrG4qAmkz8ClAnvZW11VY651cmdZQ6r3zP5ve9dJd6c3L5uaAsvmyqi0WaYEox/3BRuugupRR4CA60daLPIlKlxRJxgnxG7NxsQXEQICgIzKp6lVSCxV3l9Ts5ym1Pg/uPt86a5erapmYiOd9RhzJ6Gg43i/G9eUrZWrI+94HsZHBM3SBaeFGjjuvtVYInAExynD0KpareqFPFseijiNLI/BGLzZzDTnYNulR1xs1hAYP2lu5abXukIRefyBkpzUqq7OkiKK4BeUt8iQvCI2MdQSQZXkRU21otVxR1ZZlGdCtV2JWreSreZT1TGwPPtr/i/LBl7PDa2bAZTxOaq21MDGwmKaSNO/t3O4lvWtVddKCpTwQiPIssSqmjAAnjGNjMQjtddmfcNYXJI36efBOqtbdLOc7vS+673r9+O8PPv7q+sSxEFFqjS08kQpKnjEkTdVB5IDRlGVcq9Zqn6XJMB9CK1aipjTh4LQzTkmeYpINR6PhplluTYbDoueGvfnQmZiMrVZd19SaEWpBRRHdZdm4v/VseVoFGqgHbyZ5n2vTudb62o5XXF6/ge0yHe34JFHBt83a2oQnUcTHt2/vTXYnUiw3aVRtLo6Pbr5f3qxvOrRASeAZuSrgJK3u7tQPp9PGWBFsRD0lEU9JqiPH4+jCrMg4Svq5BRRC1uuKUpclw61hrxj3k52R3RryneHd6bvzp8+e/vEVCYl3LIqos95bkEt13q6Xd9viH7f3i95U2Eu5uEHFVQtW+RR8HCdQ9IB629BWBuNNwvRktyw/fBAPysn2Xtsf9uJBn2aPHpEnj5+cvbqKY04ZpUBoQMroIO6vj6pfiz++/9d3+mXseDBdx5GZNE6NQdpgxFiv7Lk2vZ7XpJNnNvr+7dns+//86OGjz/9peif3X//+8evLq8/+5rOtg7snRxeMUWuRhKCUIogQgg2hPtqIVf3TfziIdwYk5Hy3KG+aTVVXw7y4Pd17sP3J908vD9+cEormh8V8dRZbvvr222uCv/i3f3n29ur49ESNezrkLEqcCwDgEDtrPHprdPCQp8nionr8xeu/+udPHKXcqyg2yZ7rP9h+uFV+ePhs/t9f/qELnNLUts0gz4AlNUCly/NLWYn1bLNyZ03fE0qQ0UhrbYzxPnRKEnRonTZd7O3FdzeHO28PPt3mCqKcJvfvf3x9Fn711S9PL45VaKb7cZ6z7eEdTLLDo8Xpy/mz3z59+fS77voiu/OwHoTt7uIWEBZFcrNxxlop+gyzLF+oeUpwMB6czsnz3x5t7w54kaWqlkfH89l8+c49Pnh3O989cFRzDsNs4AHqTq8vu7PTq5CyrNwFvq2XlVHXPgCxJmHcOa1EO50MheiElDljTacAvajaJ795zq1vy/Goaqp//fzn8+Xiq8MnWZlkxcShs6jPXqwuny9H5VRs/TmmeUwMo4Zak3mbJFFKiAFUsgskOp3XnZKtdBdiA05zSgOGt8+vuJC19+5vH3369uTNb779ejQdlVlBU+atEjPx8vEb14r+O+/tv/dIGLSzM5piwnXhAgVAElolbUCHoWm7VgitFTqHHr03BCBA4EpJIdUX3zzGxbocFnEvbUhNBROdPPrDtZ5JGrHywV+mn3x88vIVbfpx4cFWEUEeRUaKiNIQgtZaqc5Z452z1gIAAFjnKGV8kJcuoYvL9QfJcDhImjgI1SrVCWGqtxuvFBtN8/1PJ9Nidt1PyD3i53he8aAdlNIF5cBYTyjjPAbQAICIIQTGKOOxtYanW0lo2Ac//4mFTl4vFqrWnTFabZammm188Lwo8+lErOso7pNJKm/mt6woKDbGdlIbbRljxjjvkfwIEY1BIAFIoG1XabB1JKkzd/be2S3GfQljnYqrTklNKZ3e/XB3mpMkHW4X49u9YrJXpnnMGQChlPKIEwDOCaVACAk/IjQE9NY5zli6d/vPTmevcdHcG8KH+++W2qYs+uabt5xHADDef48rjcr0tnK5pp7mnMYEW2OMUdp7n2cZIWC0sbY2xgAAog/g//8E39vdOz9/Nb++mmRbh/OzTdz2YiKaWgsLlCFiGQ1LrxaX6z5hVqP3vmAJU84EyyKe8shZ5z1JU5kkrdZaaw2EoMcQQgDgy/Oz+WVTDEbZYNCnpBLLpoPj5+f1uiOIUulhTtrZzEVJmoHZrM1muYnz99fqJCoxoVqaEIhzVkqJiIwxSqm1FoCEgAGAbhbidjmc5n0PXUJIERc2gvlceI2oTTBh361/OJxpn0FUuPlVOP7iQphJp6ZiWbdStI02yntHKSWEeucBAkBA/DHRKO5zJMRoqcWad3GUaC1FK7RWxmrAwG5mdf9nzmB1vq5++L/1i9+T2/dPhgfizbM2HXSdDCE4a2UnIASAAAQpA4+AiIQBT4pUGkcZiSFd+1Za2VytmIR+EislCJBcddOdYrZqm+XR4ocvl7Orar3e/uinGPqLmxvlXMw559x5Y61GdJRSCAEYMwEBgGotrbNZrx/zlLqoJGlKY7Deee89cBbRthnW8/bs9euvf1ddvtoIsa6WL49fbE3eL6DoRNO1q8h3PDitdECgSFIgZZrEESUh8Mumjj0NxpmEGiuNI8tZgy6QOM4HZT9LMnAfiYv/Veub67dqtUD0lNDz5dXVB7i/vS/ateZWaCuUigAJCUgoInrrCBAAQmNLEiSUBGGEc9BZK7R2Vhun+4NeHmWBQXT1HZ5+BbayXobgMXjZbb58/F/LZnNrMClZksUJp2jREBqs156AQ3CIjLE/AcEHiDxVMkKpAAAAAElFTkSuQmCC\"/></td>\n",
       "    </tr>\n",
       "    <tr>\n",
       "      <th>4</th>\n",
       "      <td><img src=\"data:image/png;base64,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\"/></td>\n",
       "    </tr>\n",
       "  </tbody>\n",
       "</table>                          </body>                                                          </html>"
      ],
      "text/plain": [
       "<IPython.core.display.HTML object>"
      ]
     },
     "metadata": {},
     "output_type": "display_data"
    }
   ],
   "source": [
    "bird_neighbors['image'].explore()"
   ]
  }
 ],
 "metadata": {
  "kernelspec": {
   "display_name": "Python 3",
   "language": "python",
   "name": "python3"
  },
  "language_info": {
   "codemirror_mode": {
    "name": "ipython",
    "version": 3
   },
   "file_extension": ".py",
   "mimetype": "text/x-python",
   "name": "python",
   "nbconvert_exporter": "python",
   "pygments_lexer": "ipython3",
   "version": "3.7.3"
  }
 },
 "nbformat": 4,
 "nbformat_minor": 2
}
