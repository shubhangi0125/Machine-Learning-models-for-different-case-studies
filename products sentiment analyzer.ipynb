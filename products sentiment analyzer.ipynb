{
 "cells": [
  {
   "cell_type": "code",
   "execution_count": 1,
   "metadata": {},
   "outputs": [],
   "source": [
    "import turicreate"
   ]
  },
  {
   "cell_type": "code",
   "execution_count": null,
   "metadata": {},
   "outputs": [],
   "source": [
    "##importing amazon product data"
   ]
  },
  {
   "cell_type": "code",
   "execution_count": 4,
   "metadata": {},
   "outputs": [],
   "source": [
    "amazon_product=turicreate.SFrame('~/amazon_baby.sframe')"
   ]
  },
  {
   "cell_type": "code",
   "execution_count": 5,
   "metadata": {},
   "outputs": [],
   "source": [
    "amazon_product_copy=amazon_product.copy()"
   ]
  },
  {
   "cell_type": "code",
   "execution_count": 6,
   "metadata": {},
   "outputs": [
    {
     "data": {
      "text/html": [
       "<div style=\"max-height:1000px;max-width:1500px;overflow:auto;\"><table frame=\"box\" rules=\"cols\">\n",
       "    <tr>\n",
       "        <th style=\"padding-left: 1em; padding-right: 1em; text-align: center\">name</th>\n",
       "        <th style=\"padding-left: 1em; padding-right: 1em; text-align: center\">review</th>\n",
       "        <th style=\"padding-left: 1em; padding-right: 1em; text-align: center\">rating</th>\n",
       "    </tr>\n",
       "    <tr>\n",
       "        <td style=\"padding-left: 1em; padding-right: 1em; text-align: center; vertical-align: top\">Planetwise Flannel Wipes</td>\n",
       "        <td style=\"padding-left: 1em; padding-right: 1em; text-align: center; vertical-align: top\">These flannel wipes are<br>OK, but in my opinion ...</td>\n",
       "        <td style=\"padding-left: 1em; padding-right: 1em; text-align: center; vertical-align: top\">3.0</td>\n",
       "    </tr>\n",
       "    <tr>\n",
       "        <td style=\"padding-left: 1em; padding-right: 1em; text-align: center; vertical-align: top\">Planetwise Wipe Pouch</td>\n",
       "        <td style=\"padding-left: 1em; padding-right: 1em; text-align: center; vertical-align: top\">it came early and was not<br>disappointed. i love ...</td>\n",
       "        <td style=\"padding-left: 1em; padding-right: 1em; text-align: center; vertical-align: top\">5.0</td>\n",
       "    </tr>\n",
       "    <tr>\n",
       "        <td style=\"padding-left: 1em; padding-right: 1em; text-align: center; vertical-align: top\">Annas Dream Full Quilt<br>with 2 Shams ...</td>\n",
       "        <td style=\"padding-left: 1em; padding-right: 1em; text-align: center; vertical-align: top\">Very soft and comfortable<br>and warmer than it ...</td>\n",
       "        <td style=\"padding-left: 1em; padding-right: 1em; text-align: center; vertical-align: top\">5.0</td>\n",
       "    </tr>\n",
       "    <tr>\n",
       "        <td style=\"padding-left: 1em; padding-right: 1em; text-align: center; vertical-align: top\">Stop Pacifier Sucking<br>without tears with ...</td>\n",
       "        <td style=\"padding-left: 1em; padding-right: 1em; text-align: center; vertical-align: top\">This is a product well<br>worth the purchase.  I ...</td>\n",
       "        <td style=\"padding-left: 1em; padding-right: 1em; text-align: center; vertical-align: top\">5.0</td>\n",
       "    </tr>\n",
       "    <tr>\n",
       "        <td style=\"padding-left: 1em; padding-right: 1em; text-align: center; vertical-align: top\">Stop Pacifier Sucking<br>without tears with ...</td>\n",
       "        <td style=\"padding-left: 1em; padding-right: 1em; text-align: center; vertical-align: top\">All of my kids have cried<br>non-stop when I tried to ...</td>\n",
       "        <td style=\"padding-left: 1em; padding-right: 1em; text-align: center; vertical-align: top\">5.0</td>\n",
       "    </tr>\n",
       "    <tr>\n",
       "        <td style=\"padding-left: 1em; padding-right: 1em; text-align: center; vertical-align: top\">Stop Pacifier Sucking<br>without tears with ...</td>\n",
       "        <td style=\"padding-left: 1em; padding-right: 1em; text-align: center; vertical-align: top\">When the Binky Fairy came<br>to our house, we didn&#x27;t ...</td>\n",
       "        <td style=\"padding-left: 1em; padding-right: 1em; text-align: center; vertical-align: top\">5.0</td>\n",
       "    </tr>\n",
       "    <tr>\n",
       "        <td style=\"padding-left: 1em; padding-right: 1em; text-align: center; vertical-align: top\">A Tale of Baby&#x27;s Days<br>with Peter Rabbit ...</td>\n",
       "        <td style=\"padding-left: 1em; padding-right: 1em; text-align: center; vertical-align: top\">Lovely book, it&#x27;s bound<br>tightly so you may no ...</td>\n",
       "        <td style=\"padding-left: 1em; padding-right: 1em; text-align: center; vertical-align: top\">4.0</td>\n",
       "    </tr>\n",
       "    <tr>\n",
       "        <td style=\"padding-left: 1em; padding-right: 1em; text-align: center; vertical-align: top\">Baby Tracker&amp;reg; - Daily<br>Childcare Journal, ...</td>\n",
       "        <td style=\"padding-left: 1em; padding-right: 1em; text-align: center; vertical-align: top\">Perfect for new parents.<br>We were able to keep ...</td>\n",
       "        <td style=\"padding-left: 1em; padding-right: 1em; text-align: center; vertical-align: top\">5.0</td>\n",
       "    </tr>\n",
       "    <tr>\n",
       "        <td style=\"padding-left: 1em; padding-right: 1em; text-align: center; vertical-align: top\">Baby Tracker&amp;reg; - Daily<br>Childcare Journal, ...</td>\n",
       "        <td style=\"padding-left: 1em; padding-right: 1em; text-align: center; vertical-align: top\">A friend of mine pinned<br>this product on Pinte ...</td>\n",
       "        <td style=\"padding-left: 1em; padding-right: 1em; text-align: center; vertical-align: top\">5.0</td>\n",
       "    </tr>\n",
       "    <tr>\n",
       "        <td style=\"padding-left: 1em; padding-right: 1em; text-align: center; vertical-align: top\">Baby Tracker&amp;reg; - Daily<br>Childcare Journal, ...</td>\n",
       "        <td style=\"padding-left: 1em; padding-right: 1em; text-align: center; vertical-align: top\">This has been an easy way<br>for my nanny to record ...</td>\n",
       "        <td style=\"padding-left: 1em; padding-right: 1em; text-align: center; vertical-align: top\">4.0</td>\n",
       "    </tr>\n",
       "</table>\n",
       "[10 rows x 3 columns]<br/>\n",
       "</div>"
      ],
      "text/plain": [
       "Columns:\n",
       "\tname\tstr\n",
       "\treview\tstr\n",
       "\trating\tfloat\n",
       "\n",
       "Rows: 10\n",
       "\n",
       "Data:\n",
       "+-------------------------------+-------------------------------+--------+\n",
       "|              name             |             review            | rating |\n",
       "+-------------------------------+-------------------------------+--------+\n",
       "|    Planetwise Flannel Wipes   | These flannel wipes are OK... |  3.0   |\n",
       "|     Planetwise Wipe Pouch     | it came early and was not ... |  5.0   |\n",
       "| Annas Dream Full Quilt wit... | Very soft and comfortable ... |  5.0   |\n",
       "| Stop Pacifier Sucking with... | This is a product well wor... |  5.0   |\n",
       "| Stop Pacifier Sucking with... | All of my kids have cried ... |  5.0   |\n",
       "| Stop Pacifier Sucking with... | When the Binky Fairy came ... |  5.0   |\n",
       "| A Tale of Baby's Days with... | Lovely book, it's bound ti... |  4.0   |\n",
       "| Baby Tracker&reg; - Daily ... | Perfect for new parents. W... |  5.0   |\n",
       "| Baby Tracker&reg; - Daily ... | A friend of mine pinned th... |  5.0   |\n",
       "| Baby Tracker&reg; - Daily ... | This has been an easy way ... |  4.0   |\n",
       "+-------------------------------+-------------------------------+--------+\n",
       "[10 rows x 3 columns]"
      ]
     },
     "execution_count": 6,
     "metadata": {},
     "output_type": "execute_result"
    }
   ],
   "source": [
    "amazon_product_copy.head()"
   ]
  },
  {
   "cell_type": "code",
   "execution_count": null,
   "metadata": {},
   "outputs": [],
   "source": [
    "##Analysing the data\n",
    "##calculating the number of reviews of different products"
   ]
  },
  {
   "cell_type": "code",
   "execution_count": 7,
   "metadata": {},
   "outputs": [],
   "source": [
    "amazon_product_count=amazon_product_copy.groupby('name',operations={'count':turicreate.aggregate.COUNT()})"
   ]
  },
  {
   "cell_type": "code",
   "execution_count": null,
   "metadata": {},
   "outputs": [],
   "source": [
    "##sorting the count column in descending order"
   ]
  },
  {
   "cell_type": "code",
   "execution_count": 8,
   "metadata": {},
   "outputs": [],
   "source": [
    "amazon_product_count_ascending=amazon_product_count.sort('count',ascending=False)"
   ]
  },
  {
   "cell_type": "code",
   "execution_count": 9,
   "metadata": {},
   "outputs": [
    {
     "data": {
      "text/plain": [
       "dtype: str\n",
       "Rows: 32419\n",
       "['Vulli Sophie the Giraffe Teether', 'Simple Wishes Hands-Free Breastpump Bra, Pink, XS-L', 'Infant Optics DXR-5 2.4 GHz Digital Video Baby Monitor with Night Vision', 'Baby Einstein Take Along Tunes', 'Cloud b Twilight Constellation Night Light, Turtle', 'Fisher-Price Booster Seat, Blue/Green/Gray', 'Fisher-Price Rainforest Jumperoo', 'Graco Nautilus 3-in-1 Car Seat, Matrix', 'Leachco Snoogle Total Body Pillow', 'Regalo Easy Step Walk Thru Gate, White', 'Baby Trend Diaper Champ', 'Skip Hop Zoo Pack Little Kid Backpack, Dog', 'The First Years Jet Stroller, Red/Black', 'NTM-910YIC - Sony Baby Call Nursery Monitor', None, \"Leachco Back 'N Belly Contoured Body Pillow, Ivory\", 'North States Superyard Play Yard, Grey, 6 Panel', \"Fisher-Price Cradle 'N Swing,  My Little Snugabunny\", 'Munchkin Nursery Projector and Sound System, White', 'Tiny Love Take-Along Arch, Sunny Stroll', 'Regalo Easy Open 50 Inch Super Wide Walk Thru Gate - White', \"Fisher-Price Newborn Rock 'n Play Sleeper, Yellow\", 'VTech Communications Safe &amp; Sound Digital Audio Monitor', 'Fisher-Price Rainforest Melodies and Lights Deluxe Gym', 'BABYBJORN Potty Chair - Red', \"The First Year's Infant To Toddler Tub with Sling, Blue\", 'Thermos Foogo Leak-Proof Stainless Steel 10-Ounce Food Jar, Pink', 'Summer Infant Multi-Use Deco Extra Tall Walk-Thru Gate, Bronze', 'The First Years Ignite Stroller', 'Prince Lionheart Jumbo Toy Hammock', 'Fisher-Price Infant-To-Toddler Rocker, Blue/Green', 'BreathableBaby Breathable Mesh Crib Liner, White', 'Summer Infant Contoured Changing Pad Amazon Frustration Free Packaging', 'Regalo My Cot Portable Bed, Royal Blue', 'Motorola MBP36 Remote Wireless Video Baby Monitor with 3.5-Inch Color LCD Screen, Infrared Night Vision and Remote Camera Pan, Tilt, and Zoom', 'Britax Frontier 85 Combination Booster Car Seat, Red Rock', 'Moby Wrap Original 100% Cotton Baby Carrier, Red', \"Graco Pack 'N Play Playard with Bassinet in Rise and Shine\", 'Lamaze Play &amp; Grow Freddie the Firefly Take Along Toy', 'Fisher-Price Papasan Cradle Swing, Butterfly Garden', 'Philips Avent 3 Pack 9oz Bottles', 'Munchkin Mozart Magic Cube', 'Aden and Anais UpAwaySwddleBlnkts', 'Bumkins 3 Pack Waterproof SuperBib', \"Fisher-Price Kick and Play Piano Gym, Discover 'N Grow\", 'Miracle Blanket Baby Swaddle Blanket, Pink', 'PRIMO EuroBath, Pearl White', 'The First Years Hands Free Gate', 'Hand Held Scalp Head Massager - Set of Three ( Colors May Vary )', 'BABYBJORN Baby Carrier Original, Black, Cotton', 'Fisher-Price Ocean Wonders Aquarium Cradle Swing', 'Cloud b Sound Machine Soother, Sleep Sheep', 'Itzbeen Pocket Nanny Baby Care Timer, Blue', 'Britax Marathon 70-G3 Convertible Car Seat, Onyx', 'Britax 2 Pack EZ-Cling Sun Shades, Black', 'North States Supergate Easy Close Metal Gate, White', 'Kalencom 2-in-1 Potette Plus Red', 'Munchkin 6 Pack Soft-Tip Infant Spoon', 'Nosefrida Baby Nasal Aspirator with 4 filters and 20 Additional Filters', 'Baby Einstein Bendy Ball', 'Planet Wise Wet Diaper Bag, Black, Small', 'Safety 1st Heavenly Dreams White Crib Mattress', 'Baby Banana Bendable Training Toothbrush, Infant', 'Diono RadianRXT Convertible Car Seat, Plum', 'RECARO ProRIDE Convertible Car Seat, Misty', 'Skip Hop Bath Spout Cover, Moby', 'Safety 1st Deluxe 4-in-1 Bath Station', 'Fisher-Price 2-in-1 Projection Mobile, Precious Planet', 'Zo-li Bot Straw Sippy Cup 6oz', 'Prince Lionheart Ultimate Wipes Warmer', 'Sunshine Kids Stroller Accessory Buggy Buddy', 'Thermos FOOGO Phases Stainless Steel Straw Bottle, Pink/Purple, 10 Ounce', 'Razbaby RaZ-berry Teether, Red', 'Thirsties Duo Wrap Snap, Ocean Blue, Size One (6-18 lbs)', \"Dr. Brown's Formula Mixing Pitcher\", 'Exergen Temporal Artery Thermometer MODEL# TAT-2000C', 'Playtex Diaper Genie Elite Diaper Disposal Pail, White', 'BOB Revolution SE Single Stroller, Navy', 'Door Monkey, Childproof Door Lock &amp; Pinch Guard', 'Aqueduck Faucet Extender, Pink', 'Motorola MBP33 Wireless Video Baby Monitor with Infrared Night Vision and Zoom, 2.8 Inch', 'Graco Bumper Jumper in Little Jungle', \"Graco TotBloc Pack 'N Play with Carry Bag, Bugs Quilt\", 'BABYBJORN Toilet Trainer - White/Red', 'BooginHead Pacifier Holder, Pink Polka Dot', 'VTech Communications Safe &amp; Sound Digital Audio Monitor with two Parent Units', 'Bebe Au Lait Cotton Nursing Cover - Bali', 'Cloud b Twilight Constellation Night Light, Sea Turtle', 'OXO Tot Bottle Brush with Nipple Cleaner and Stand, Green', 'The First Years Babypro Quick Serve Bottle Warmer, Colors May Vary', \"Lamaze Cloth Book, Panda's Pals\", 'Inglesina 2013 Fast Table Chair, Liquirizia', 'The First Years Spinning Drying Rack, White', 'Skip Hop Zoo Lunchie Insulated Lunch Bag, Monkey', 'Baby Buddy Secure-A-Toy, Navy/Red', 'ERGObaby Original Baby Carrier, Camel', 'TL Care Organic Cotton Nursing Pads, Natural, 6 Count', 'Tiny Love Take Along Mobile, Animal Friends', 'Aden By aden + anais Muslin Swaddle Blanket 4 Pack, Oh My!', 'Summer Infant Baby Touch Digital Color Video Monitor', ... ]"
      ]
     },
     "execution_count": 9,
     "metadata": {},
     "output_type": "execute_result"
    }
   ],
   "source": [
    "amazon_product_count_ascending['name']"
   ]
  },
  {
   "cell_type": "code",
   "execution_count": null,
   "metadata": {},
   "outputs": [],
   "source": [
    "##creating a feature column(i.e. word count for the review)"
   ]
  },
  {
   "cell_type": "code",
   "execution_count": 12,
   "metadata": {},
   "outputs": [],
   "source": [
    "amazon_product_copy['word_count']=turicreate.text_analytics.count_words(amazon_product_copy['review'])"
   ]
  },
  {
   "cell_type": "code",
   "execution_count": 13,
   "metadata": {
    "scrolled": true
   },
   "outputs": [
    {
     "name": "stdout",
     "output_type": "stream",
     "text": [
      "+-------------------------------+-------------------------------+--------+\n",
      "|              name             |             review            | rating |\n",
      "+-------------------------------+-------------------------------+--------+\n",
      "|    Planetwise Flannel Wipes   | These flannel wipes are OK... |  3.0   |\n",
      "|     Planetwise Wipe Pouch     | it came early and was not ... |  5.0   |\n",
      "| Annas Dream Full Quilt wit... | Very soft and comfortable ... |  5.0   |\n",
      "| Stop Pacifier Sucking with... | This is a product well wor... |  5.0   |\n",
      "| Stop Pacifier Sucking with... | All of my kids have cried ... |  5.0   |\n",
      "| Stop Pacifier Sucking with... | When the Binky Fairy came ... |  5.0   |\n",
      "| A Tale of Baby's Days with... | Lovely book, it's bound ti... |  4.0   |\n",
      "| Baby Tracker&reg; - Daily ... | Perfect for new parents. W... |  5.0   |\n",
      "| Baby Tracker&reg; - Daily ... | A friend of mine pinned th... |  5.0   |\n",
      "| Baby Tracker&reg; - Daily ... | This has been an easy way ... |  4.0   |\n",
      "+-------------------------------+-------------------------------+--------+\n",
      "+-------------------------------+\n",
      "|           word_count          |\n",
      "+-------------------------------+\n",
      "| {'handles': 1.0, 'strippin... |\n",
      "| {'recommend': 1.0, 'highly... |\n",
      "| {'quilt': 1.0, 'of': 1.0, ... |\n",
      "| {'tool': 1.0, 'clever': 1.... |\n",
      "| {'rock': 1.0, 'many': 1.0,... |\n",
      "| {'thumb': 1.0, 'or': 1.0, ... |\n",
      "| {'for': 1.0, 'barnes': 1.0... |\n",
      "| {'right': 1.0, 'because': ... |\n",
      "| {'like': 1.0, 'and': 1.0, ... |\n",
      "| {'in': 1.0, 'pages': 1.0, ... |\n",
      "+-------------------------------+\n",
      "[10 rows x 4 columns]\n",
      "\n"
     ]
    }
   ],
   "source": [
    "print(amazon_product_copy.head())"
   ]
  },
  {
   "cell_type": "code",
   "execution_count": null,
   "metadata": {},
   "outputs": [],
   "source": [
    "##creating column containing count of selected words"
   ]
  },
  {
   "cell_type": "code",
   "execution_count": null,
   "metadata": {},
   "outputs": [],
   "source": [
    "##giving labels to the ratings\n",
    "##positive(1) to the 4 and 5 ratings\n",
    "##negative to the 1 and 2 ratings\n",
    "##removing those products having rating 3(neutral one)"
   ]
  },
  {
   "cell_type": "code",
   "execution_count": 14,
   "metadata": {},
   "outputs": [],
   "source": [
    "amazon_product_copy=amazon_product_copy[amazon_product_copy['rating']!=3]"
   ]
  },
  {
   "cell_type": "code",
   "execution_count": 15,
   "metadata": {},
   "outputs": [],
   "source": [
    "amazon_product_copy['sentiments']=amazon_product_copy['rating']>3"
   ]
  },
  {
   "cell_type": "code",
   "execution_count": null,
   "metadata": {},
   "outputs": [],
   "source": [
    "##viewing the data having sentiments(target) value positive(1)"
   ]
  },
  {
   "cell_type": "code",
   "execution_count": 16,
   "metadata": {},
   "outputs": [
    {
     "name": "stdout",
     "output_type": "stream",
     "text": [
      "+-------------------------------+-------------------------------+--------+\n",
      "|              name             |             review            | rating |\n",
      "+-------------------------------+-------------------------------+--------+\n",
      "|     Planetwise Wipe Pouch     | it came early and was not ... |  5.0   |\n",
      "| Annas Dream Full Quilt wit... | Very soft and comfortable ... |  5.0   |\n",
      "| Stop Pacifier Sucking with... | This is a product well wor... |  5.0   |\n",
      "| Stop Pacifier Sucking with... | All of my kids have cried ... |  5.0   |\n",
      "| Stop Pacifier Sucking with... | When the Binky Fairy came ... |  5.0   |\n",
      "| A Tale of Baby's Days with... | Lovely book, it's bound ti... |  4.0   |\n",
      "| Baby Tracker&reg; - Daily ... | Perfect for new parents. W... |  5.0   |\n",
      "| Baby Tracker&reg; - Daily ... | A friend of mine pinned th... |  5.0   |\n",
      "| Baby Tracker&reg; - Daily ... | This has been an easy way ... |  4.0   |\n",
      "| Baby Tracker&reg; - Daily ... | I love this journal and ou... |  4.0   |\n",
      "+-------------------------------+-------------------------------+--------+\n",
      "+-------------------------------+------------+\n",
      "|           word_count          | sentiments |\n",
      "+-------------------------------+------------+\n",
      "| {'recommend': 1.0, 'highly... |     1      |\n",
      "| {'quilt': 1.0, 'of': 1.0, ... |     1      |\n",
      "| {'tool': 1.0, 'clever': 1.... |     1      |\n",
      "| {'rock': 1.0, 'many': 1.0,... |     1      |\n",
      "| {'thumb': 1.0, 'or': 1.0, ... |     1      |\n",
      "| {'for': 1.0, 'barnes': 1.0... |     1      |\n",
      "| {'right': 1.0, 'because': ... |     1      |\n",
      "| {'like': 1.0, 'and': 1.0, ... |     1      |\n",
      "| {'in': 1.0, 'pages': 1.0, ... |     1      |\n",
      "| {'tracker': 1.0, 'now': 1.... |     1      |\n",
      "+-------------------------------+------------+\n",
      "[? rows x 5 columns]\n",
      "Note: Only the head of the SFrame is printed. This SFrame is lazily evaluated.\n",
      "You can use sf.materialize() to force materialization.\n"
     ]
    }
   ],
   "source": [
    "print(amazon_product_copy[amazon_product_copy['sentiments']==1])"
   ]
  },
  {
   "cell_type": "code",
   "execution_count": null,
   "metadata": {},
   "outputs": [],
   "source": [
    "####viewing the data having sentiments(target) value negative(0)"
   ]
  },
  {
   "cell_type": "code",
   "execution_count": 17,
   "metadata": {},
   "outputs": [
    {
     "name": "stdout",
     "output_type": "stream",
     "text": [
      "+-------------------------------+-------------------------------+--------+\n",
      "|              name             |             review            | rating |\n",
      "+-------------------------------+-------------------------------+--------+\n",
      "| Nature's Lullabies Second ... | I only purchased a second-... |  2.0   |\n",
      "| SoftPlay Giggle Jiggle Fun... | This bear is absolutely ad... |  2.0   |\n",
      "|   SoftPlay Cloth Book, Love   | This book is boring. Nothi... |  1.0   |\n",
      "| Hunnt&reg; Falling Flowers... | The reason:Small sizeHard ... |  1.0   |\n",
      "| Wall Decor Removable Decal... | Would not purchase again o... |  2.0   |\n",
      "| Cloth Diaper Pins Stainles... | These were  good quality--... |  2.0   |\n",
      "| Cloth Diaper Pins Stainles... | While the diaper pins are ... |  2.0   |\n",
      "| Cloth Diaper Pins Stainles... | The steel part is not stro... |  1.0   |\n",
      "| Cloth Diaper Pins Stainles... | I really thought I was get... |  2.0   |\n",
      "| Super Mario Game Nintendo ... | These do not stick to the ... |  1.0   |\n",
      "+-------------------------------+-------------------------------+--------+\n",
      "+-------------------------------+------------+\n",
      "|           word_count          | sentiments |\n",
      "+-------------------------------+------------+\n",
      "| {'purchasers': 1.0, 'futur... |     0      |\n",
      "| {'granddaughter': 1.0, 'ke... |     0      |\n",
      "| {'i': 1.0, 'recommend': 1.... |     0      |\n",
      "| {'roll': 1.0, 'floor': 1.0... |     0      |\n",
      "| {'peeling': 1.0, '5': 1.0,... |     0      |\n",
      "| {'others': 1.0, 'to': 1.0,... |     0      |\n",
      "| {'little': 1.0, 'so': 1.0,... |     0      |\n",
      "| {'recommend': 1.0, 'would'... |     0      |\n",
      "| {'be': 1.0, 'back': 1.0, '... |     0      |\n",
      "| {'them': 1.0, 'you': 1.0, ... |     0      |\n",
      "+-------------------------------+------------+\n",
      "[? rows x 5 columns]\n",
      "Note: Only the head of the SFrame is printed. This SFrame is lazily evaluated.\n",
      "You can use sf.materialize() to force materialization.\n"
     ]
    }
   ],
   "source": [
    "print(amazon_product_copy[amazon_product_copy['sentiments']==0])"
   ]
  },
  {
   "cell_type": "code",
   "execution_count": null,
   "metadata": {},
   "outputs": [],
   "source": [
    "##splitting the data into train and test set"
   ]
  },
  {
   "cell_type": "code",
   "execution_count": 18,
   "metadata": {},
   "outputs": [],
   "source": [
    "train_data,test_data=amazon_product_copy.random_split(0.8,seed=0)"
   ]
  },
  {
   "cell_type": "code",
   "execution_count": null,
   "metadata": {},
   "outputs": [],
   "source": [
    "##model building(classifier building)"
   ]
  },
  {
   "cell_type": "code",
   "execution_count": 20,
   "metadata": {},
   "outputs": [
    {
     "data": {
      "text/html": [
       "<pre>Logistic regression:</pre>"
      ],
      "text/plain": [
       "Logistic regression:"
      ]
     },
     "metadata": {},
     "output_type": "display_data"
    },
    {
     "data": {
      "text/html": [
       "<pre>--------------------------------------------------------</pre>"
      ],
      "text/plain": [
       "--------------------------------------------------------"
      ]
     },
     "metadata": {},
     "output_type": "display_data"
    },
    {
     "data": {
      "text/html": [
       "<pre>Number of examples          : 133448</pre>"
      ],
      "text/plain": [
       "Number of examples          : 133448"
      ]
     },
     "metadata": {},
     "output_type": "display_data"
    },
    {
     "data": {
      "text/html": [
       "<pre>Number of classes           : 2</pre>"
      ],
      "text/plain": [
       "Number of classes           : 2"
      ]
     },
     "metadata": {},
     "output_type": "display_data"
    },
    {
     "data": {
      "text/html": [
       "<pre>Number of feature columns   : 1</pre>"
      ],
      "text/plain": [
       "Number of feature columns   : 1"
      ]
     },
     "metadata": {},
     "output_type": "display_data"
    },
    {
     "data": {
      "text/html": [
       "<pre>Number of unpacked features : 57356</pre>"
      ],
      "text/plain": [
       "Number of unpacked features : 57356"
      ]
     },
     "metadata": {},
     "output_type": "display_data"
    },
    {
     "data": {
      "text/html": [
       "<pre>Number of coefficients      : 57357</pre>"
      ],
      "text/plain": [
       "Number of coefficients      : 57357"
      ]
     },
     "metadata": {},
     "output_type": "display_data"
    },
    {
     "data": {
      "text/html": [
       "<pre>Starting L-BFGS</pre>"
      ],
      "text/plain": [
       "Starting L-BFGS"
      ]
     },
     "metadata": {},
     "output_type": "display_data"
    },
    {
     "data": {
      "text/html": [
       "<pre>--------------------------------------------------------</pre>"
      ],
      "text/plain": [
       "--------------------------------------------------------"
      ]
     },
     "metadata": {},
     "output_type": "display_data"
    },
    {
     "data": {
      "text/html": [
       "<pre>+-----------+----------+-----------+--------------+-------------------+---------------------+</pre>"
      ],
      "text/plain": [
       "+-----------+----------+-----------+--------------+-------------------+---------------------+"
      ]
     },
     "metadata": {},
     "output_type": "display_data"
    },
    {
     "data": {
      "text/html": [
       "<pre>| Iteration | Passes   | Step size | Elapsed Time | Training Accuracy | Validation Accuracy |</pre>"
      ],
      "text/plain": [
       "| Iteration | Passes   | Step size | Elapsed Time | Training Accuracy | Validation Accuracy |"
      ]
     },
     "metadata": {},
     "output_type": "display_data"
    },
    {
     "data": {
      "text/html": [
       "<pre>+-----------+----------+-----------+--------------+-------------------+---------------------+</pre>"
      ],
      "text/plain": [
       "+-----------+----------+-----------+--------------+-------------------+---------------------+"
      ]
     },
     "metadata": {},
     "output_type": "display_data"
    },
    {
     "data": {
      "text/html": [
       "<pre>| 0         | 4        | 0.250000  | 5.520331     | 0.841421          | 0.840019            |</pre>"
      ],
      "text/plain": [
       "| 0         | 4        | 0.250000  | 5.520331     | 0.841421          | 0.840019            |"
      ]
     },
     "metadata": {},
     "output_type": "display_data"
    },
    {
     "data": {
      "text/html": [
       "<pre>| 1         | 9        | 3.250000  | 9.682305     | 0.931359          | 0.911362            |</pre>"
      ],
      "text/plain": [
       "| 1         | 9        | 3.250000  | 9.682305     | 0.931359          | 0.911362            |"
      ]
     },
     "metadata": {},
     "output_type": "display_data"
    },
    {
     "data": {
      "text/html": [
       "<pre>| 2         | 11       | 2.669978  | 10.402649    | 0.938650          | 0.916466            |</pre>"
      ],
      "text/plain": [
       "| 2         | 11       | 2.669978  | 10.402649    | 0.938650          | 0.916466            |"
      ]
     },
     "metadata": {},
     "output_type": "display_data"
    },
    {
     "data": {
      "text/html": [
       "<pre>| 3         | 12       | 2.669978  | 11.543190    | 0.927417          | 0.901814            |</pre>"
      ],
      "text/plain": [
       "| 3         | 12       | 2.669978  | 11.543190    | 0.927417          | 0.901814            |"
      ]
     },
     "metadata": {},
     "output_type": "display_data"
    },
    {
     "data": {
      "text/html": [
       "<pre>| 4         | 14       | 1.326072  | 12.376517    | 0.945200          | 0.918088            |</pre>"
      ],
      "text/plain": [
       "| 4         | 14       | 1.326072  | 12.376517    | 0.945200          | 0.918088            |"
      ]
     },
     "metadata": {},
     "output_type": "display_data"
    },
    {
     "data": {
      "text/html": [
       "<pre>| 9         | 20       | 1.326072  | 15.220902    | 0.977654          | 0.917698            |</pre>"
      ],
      "text/plain": [
       "| 9         | 20       | 1.326072  | 15.220902    | 0.977654          | 0.917698            |"
      ]
     },
     "metadata": {},
     "output_type": "display_data"
    },
    {
     "data": {
      "text/html": [
       "<pre>+-----------+----------+-----------+--------------+-------------------+---------------------+</pre>"
      ],
      "text/plain": [
       "+-----------+----------+-----------+--------------+-------------------+---------------------+"
      ]
     },
     "metadata": {},
     "output_type": "display_data"
    }
   ],
   "source": [
    "sentiment_model=turicreate.logistic_classifier.create(train_data,features=['word_count'],target='sentiments',validation_set=test_data)"
   ]
  },
  {
   "cell_type": "code",
   "execution_count": null,
   "metadata": {},
   "outputs": [],
   "source": [
    "##prediction"
   ]
  },
  {
   "cell_type": "code",
   "execution_count": 21,
   "metadata": {},
   "outputs": [],
   "source": [
    "amazon_product_copy['prediction']=sentiment_model.predict(amazon_product_copy)"
   ]
  },
  {
   "cell_type": "code",
   "execution_count": 22,
   "metadata": {},
   "outputs": [
    {
     "name": "stdout",
     "output_type": "stream",
     "text": [
      "+-------------------------------+-------------------------------+--------+\n",
      "|              name             |             review            | rating |\n",
      "+-------------------------------+-------------------------------+--------+\n",
      "|     Planetwise Wipe Pouch     | it came early and was not ... |  5.0   |\n",
      "| Annas Dream Full Quilt wit... | Very soft and comfortable ... |  5.0   |\n",
      "| Stop Pacifier Sucking with... | This is a product well wor... |  5.0   |\n",
      "| Stop Pacifier Sucking with... | All of my kids have cried ... |  5.0   |\n",
      "| Stop Pacifier Sucking with... | When the Binky Fairy came ... |  5.0   |\n",
      "| A Tale of Baby's Days with... | Lovely book, it's bound ti... |  4.0   |\n",
      "| Baby Tracker&reg; - Daily ... | Perfect for new parents. W... |  5.0   |\n",
      "| Baby Tracker&reg; - Daily ... | A friend of mine pinned th... |  5.0   |\n",
      "| Baby Tracker&reg; - Daily ... | This has been an easy way ... |  4.0   |\n",
      "| Baby Tracker&reg; - Daily ... | I love this journal and ou... |  4.0   |\n",
      "+-------------------------------+-------------------------------+--------+\n",
      "+-------------------------------+------------+------------+\n",
      "|           word_count          | sentiments | prediction |\n",
      "+-------------------------------+------------+------------+\n",
      "| {'recommend': 1.0, 'highly... |     1      |     1      |\n",
      "| {'quilt': 1.0, 'of': 1.0, ... |     1      |     1      |\n",
      "| {'tool': 1.0, 'clever': 1.... |     1      |     1      |\n",
      "| {'rock': 1.0, 'many': 1.0,... |     1      |     1      |\n",
      "| {'thumb': 1.0, 'or': 1.0, ... |     1      |     1      |\n",
      "| {'for': 1.0, 'barnes': 1.0... |     1      |     1      |\n",
      "| {'right': 1.0, 'because': ... |     1      |     1      |\n",
      "| {'like': 1.0, 'and': 1.0, ... |     1      |     1      |\n",
      "| {'in': 1.0, 'pages': 1.0, ... |     1      |     1      |\n",
      "| {'tracker': 1.0, 'now': 1.... |     1      |     1      |\n",
      "+-------------------------------+------------+------------+\n",
      "[10 rows x 6 columns]\n",
      "\n"
     ]
    }
   ],
   "source": [
    "print(amazon_product_copy.head())"
   ]
  },
  {
   "cell_type": "code",
   "execution_count": null,
   "metadata": {},
   "outputs": [],
   "source": [
    "##calculating the probablity of prediction"
   ]
  },
  {
   "cell_type": "code",
   "execution_count": 23,
   "metadata": {},
   "outputs": [],
   "source": [
    "amazon_product_copy['prediction_probability']=sentiment_model.predict(amazon_product_copy,output_type='probability')"
   ]
  },
  {
   "cell_type": "code",
   "execution_count": 24,
   "metadata": {},
   "outputs": [
    {
     "name": "stdout",
     "output_type": "stream",
     "text": [
      "+-------------------------------+-------------------------------+--------+\n",
      "|              name             |             review            | rating |\n",
      "+-------------------------------+-------------------------------+--------+\n",
      "|     Planetwise Wipe Pouch     | it came early and was not ... |  5.0   |\n",
      "| Annas Dream Full Quilt wit... | Very soft and comfortable ... |  5.0   |\n",
      "| Stop Pacifier Sucking with... | This is a product well wor... |  5.0   |\n",
      "| Stop Pacifier Sucking with... | All of my kids have cried ... |  5.0   |\n",
      "| Stop Pacifier Sucking with... | When the Binky Fairy came ... |  5.0   |\n",
      "| A Tale of Baby's Days with... | Lovely book, it's bound ti... |  4.0   |\n",
      "| Baby Tracker&reg; - Daily ... | Perfect for new parents. W... |  5.0   |\n",
      "| Baby Tracker&reg; - Daily ... | A friend of mine pinned th... |  5.0   |\n",
      "| Baby Tracker&reg; - Daily ... | This has been an easy way ... |  4.0   |\n",
      "| Baby Tracker&reg; - Daily ... | I love this journal and ou... |  4.0   |\n",
      "+-------------------------------+-------------------------------+--------+\n",
      "+-------------------------------+------------+------------+------------------------+\n",
      "|           word_count          | sentiments | prediction | prediction_probability |\n",
      "+-------------------------------+------------+------------+------------------------+\n",
      "| {'recommend': 1.0, 'highly... |     1      |     1      |   0.9997307390047091   |\n",
      "| {'quilt': 1.0, 'of': 1.0, ... |     1      |     1      |   0.998508336831661    |\n",
      "| {'tool': 1.0, 'clever': 1.... |     1      |     1      |   0.9997489042499881   |\n",
      "| {'rock': 1.0, 'many': 1.0,... |     1      |     1      |   0.9999916625399973   |\n",
      "| {'thumb': 1.0, 'or': 1.0, ... |     1      |     1      |   0.9999999514462167   |\n",
      "| {'for': 1.0, 'barnes': 1.0... |     1      |     1      |   0.9999146735569904   |\n",
      "| {'right': 1.0, 'because': ... |     1      |     1      |   0.9999916615904652   |\n",
      "| {'like': 1.0, 'and': 1.0, ... |     1      |     1      |   0.9999938843594008   |\n",
      "| {'in': 1.0, 'pages': 1.0, ... |     1      |     1      |   0.9961247617006413   |\n",
      "| {'tracker': 1.0, 'now': 1.... |     1      |     1      |   0.9999999920460633   |\n",
      "+-------------------------------+------------+------------+------------------------+\n",
      "[10 rows x 7 columns]\n",
      "\n"
     ]
    }
   ],
   "source": [
    "print(amazon_product_copy.head())"
   ]
  },
  {
   "cell_type": "code",
   "execution_count": null,
   "metadata": {},
   "outputs": [],
   "source": [
    "#################################################################################################"
   ]
  },
  {
   "cell_type": "code",
   "execution_count": null,
   "metadata": {},
   "outputs": [],
   "source": [
    "##building a model for setiment analysis using selected words"
   ]
  },
  {
   "cell_type": "code",
   "execution_count": 25,
   "metadata": {},
   "outputs": [],
   "source": [
    "y=amazon_product_copy['word_count']"
   ]
  },
  {
   "cell_type": "code",
   "execution_count": 26,
   "metadata": {},
   "outputs": [],
   "source": [
    "a=[]\n",
    "for i in range(0,166752):\n",
    "    \n",
    "    if 'awesome' in y[i]:\n",
    "        b=y[i]['awesome']\n",
    "    else:\n",
    "        b=0\n",
    "    \n",
    "    a.append(b)\n"
   ]
  },
  {
   "cell_type": "code",
   "execution_count": 27,
   "metadata": {},
   "outputs": [],
   "source": [
    "c=[]\n",
    "for i in range(0,166752):\n",
    "    if 'great' in y[i]:\n",
    "        b=y[i]['great']\n",
    "    else:\n",
    "        b=0\n",
    "    \n",
    "    c.append(b)\n"
   ]
  },
  {
   "cell_type": "code",
   "execution_count": 28,
   "metadata": {},
   "outputs": [],
   "source": [
    "d=[]\n",
    "for i in range(0,166752):\n",
    "    if 'fantastic' in y[i]:\n",
    "        b=y[i]['fantastic']\n",
    "    else:\n",
    "        b=0\n",
    "    \n",
    "    d.append(b)\n"
   ]
  },
  {
   "cell_type": "code",
   "execution_count": 30,
   "metadata": {},
   "outputs": [],
   "source": [
    "e=[]\n",
    "for i in range(0,166752):\n",
    "    if 'amazing' in y[i]:\n",
    "        b=y[i]['amazing']\n",
    "    else:\n",
    "        b=0\n",
    "    \n",
    "    e.append(b)\n"
   ]
  },
  {
   "cell_type": "code",
   "execution_count": 29,
   "metadata": {},
   "outputs": [],
   "source": [
    "f=[]\n",
    "for i in range(0,166752):\n",
    "    if 'love' in y[i]:\n",
    "        b=y[i]['love']\n",
    "    else:\n",
    "        b=0\n",
    "    \n",
    "    f.append(b)\n"
   ]
  },
  {
   "cell_type": "code",
   "execution_count": 31,
   "metadata": {},
   "outputs": [],
   "source": [
    "g=[]\n",
    "for i in range(0,166752):\n",
    "    if 'horrible' in y[i]:\n",
    "        b=y[i]['horrible']\n",
    "    else:\n",
    "        b=0\n",
    "    \n",
    "    g.append(b)\n"
   ]
  },
  {
   "cell_type": "code",
   "execution_count": 32,
   "metadata": {},
   "outputs": [],
   "source": [
    "h=[]\n",
    "for i in range(0,166752):\n",
    "    if 'bad' in y[i]:\n",
    "        b=y[i]['bad']\n",
    "    else:\n",
    "        b=0\n",
    "    \n",
    "    h.append(b)\n"
   ]
  },
  {
   "cell_type": "code",
   "execution_count": 33,
   "metadata": {},
   "outputs": [],
   "source": [
    "m=[]\n",
    "for i in range(0,166752):\n",
    "    if 'terrible' in y[i]:\n",
    "        b=y[i]['terrible']\n",
    "    else:\n",
    "        b=0\n",
    "    \n",
    "    m.append(b)\n"
   ]
  },
  {
   "cell_type": "code",
   "execution_count": 34,
   "metadata": {},
   "outputs": [],
   "source": [
    "j=[]\n",
    "for i in range(0,166752):\n",
    "    if 'awful' in y[i]:\n",
    "        b=y[i]['awful']\n",
    "    else:\n",
    "        b=0\n",
    "    \n",
    "    j.append(b)\n"
   ]
  },
  {
   "cell_type": "code",
   "execution_count": 35,
   "metadata": {},
   "outputs": [],
   "source": [
    "k=[]\n",
    "for i in range(0,166752):\n",
    "    if 'wow' in y[i]:\n",
    "        b=y[i]['wow']\n",
    "    else:\n",
    "        b=0\n",
    "    \n",
    "    k.append(b)\n"
   ]
  },
  {
   "cell_type": "code",
   "execution_count": 36,
   "metadata": {},
   "outputs": [],
   "source": [
    "l=[]\n",
    "for i in range(0,166752):\n",
    "    if 'hate' in y[i]:\n",
    "        b=y[i]['hate']\n",
    "    else:\n",
    "        b=0\n",
    "    \n",
    "    l.append(b)\n"
   ]
  },
  {
   "cell_type": "code",
   "execution_count": null,
   "metadata": {},
   "outputs": [],
   "source": [
    "##creating new columns of selected words only"
   ]
  },
  {
   "cell_type": "code",
   "execution_count": 37,
   "metadata": {},
   "outputs": [],
   "source": [
    "amazon_product_copy['awesome_count']=a"
   ]
  },
  {
   "cell_type": "code",
   "execution_count": 38,
   "metadata": {},
   "outputs": [],
   "source": [
    "amazon_product_copy['great_count']=c"
   ]
  },
  {
   "cell_type": "code",
   "execution_count": 39,
   "metadata": {},
   "outputs": [],
   "source": [
    "amazon_product_copy['fantastic_count']=d"
   ]
  },
  {
   "cell_type": "code",
   "execution_count": 40,
   "metadata": {},
   "outputs": [],
   "source": [
    "amazon_product_copy['amazing_count']=e"
   ]
  },
  {
   "cell_type": "code",
   "execution_count": 41,
   "metadata": {},
   "outputs": [],
   "source": [
    "amazon_product_copy['love_count']=f"
   ]
  },
  {
   "cell_type": "code",
   "execution_count": 42,
   "metadata": {},
   "outputs": [],
   "source": [
    "amazon_product_copy['horrible_count']=g"
   ]
  },
  {
   "cell_type": "code",
   "execution_count": 43,
   "metadata": {},
   "outputs": [],
   "source": [
    "amazon_product_copy['bad_count']=h"
   ]
  },
  {
   "cell_type": "code",
   "execution_count": 44,
   "metadata": {},
   "outputs": [],
   "source": [
    "amazon_product_copy['terrible_count']=m"
   ]
  },
  {
   "cell_type": "code",
   "execution_count": 45,
   "metadata": {},
   "outputs": [],
   "source": [
    "amazon_product_copy['awful_count']=j"
   ]
  },
  {
   "cell_type": "code",
   "execution_count": 46,
   "metadata": {},
   "outputs": [],
   "source": [
    "amazon_product_copy['wow_count']=k"
   ]
  },
  {
   "cell_type": "code",
   "execution_count": 47,
   "metadata": {},
   "outputs": [],
   "source": [
    "amazon_product_copy['hate_count']=l"
   ]
  },
  {
   "cell_type": "code",
   "execution_count": 48,
   "metadata": {},
   "outputs": [
    {
     "name": "stdout",
     "output_type": "stream",
     "text": [
      "+-------------------------------+-------------------------------+--------+\n",
      "|              name             |             review            | rating |\n",
      "+-------------------------------+-------------------------------+--------+\n",
      "|     Planetwise Wipe Pouch     | it came early and was not ... |  5.0   |\n",
      "| Annas Dream Full Quilt wit... | Very soft and comfortable ... |  5.0   |\n",
      "| Stop Pacifier Sucking with... | This is a product well wor... |  5.0   |\n",
      "| Stop Pacifier Sucking with... | All of my kids have cried ... |  5.0   |\n",
      "+-------------------------------+-------------------------------+--------+\n",
      "+-------------------------------+------------+------------+------------------------+\n",
      "|           word_count          | sentiments | prediction | prediction_probability |\n",
      "+-------------------------------+------------+------------+------------------------+\n",
      "| {'recommend': 1.0, 'highly... |     1      |     1      |   0.9997307390047091   |\n",
      "| {'quilt': 1.0, 'of': 1.0, ... |     1      |     1      |   0.998508336831661    |\n",
      "| {'tool': 1.0, 'clever': 1.... |     1      |     1      |   0.9997489042499881   |\n",
      "| {'rock': 1.0, 'many': 1.0,... |     1      |     1      |   0.9999916625399973   |\n",
      "+-------------------------------+------------+------------+------------------------+\n",
      "+---------------+-------------+-----------------+---------------+------------+\n",
      "| awesome_count | great_count | fantastic_count | amazing_count | love_count |\n",
      "+---------------+-------------+-----------------+---------------+------------+\n",
      "|      0.0      |     0.0     |       0.0       |      0.0      |    1.0     |\n",
      "|      0.0      |     0.0     |       0.0       |      0.0      |    0.0     |\n",
      "|      0.0      |     0.0     |       0.0       |      0.0      |    2.0     |\n",
      "|      0.0      |     1.0     |       0.0       |      0.0      |    1.0     |\n",
      "+---------------+-------------+-----------------+---------------+------------+\n",
      "+----------------+-----------+----------------+-------------+-----------+------------+\n",
      "| horrible_count | bad_count | terrible_count | awful_count | wow_count | hate_count |\n",
      "+----------------+-----------+----------------+-------------+-----------+------------+\n",
      "|      0.0       |    0.0    |      0.0       |     0.0     |    0.0    |    0.0     |\n",
      "|      0.0       |    0.0    |      0.0       |     0.0     |    0.0    |    0.0     |\n",
      "|      0.0       |    0.0    |      0.0       |     0.0     |    0.0    |    0.0     |\n",
      "|      0.0       |    0.0    |      0.0       |     0.0     |    0.0    |    0.0     |\n",
      "+----------------+-----------+----------------+-------------+-----------+------------+\n",
      "[4 rows x 18 columns]\n",
      "\n"
     ]
    }
   ],
   "source": [
    "print(amazon_product_copy.head(4))"
   ]
  },
  {
   "cell_type": "code",
   "execution_count": null,
   "metadata": {},
   "outputs": [],
   "source": [
    "##calculating sum of each column of selected words"
   ]
  },
  {
   "cell_type": "code",
   "execution_count": 50,
   "metadata": {},
   "outputs": [],
   "source": [
    "selected_words=['awesome_count','great_count','fantastic_count','amazing_count','love_count','horrible_count','bad_count','terrible_count','awful_count','wow_count','hate_count']"
   ]
  },
  {
   "cell_type": "code",
   "execution_count": 51,
   "metadata": {},
   "outputs": [
    {
     "name": "stdout",
     "output_type": "stream",
     "text": [
      "3892.0\n",
      "55791.0\n",
      "1664.0\n",
      "2628.0\n",
      "41994.0\n",
      "1110.0\n",
      "4183.0\n",
      "1146.0\n",
      "687.0\n",
      "425.0\n",
      "1107.0\n"
     ]
    }
   ],
   "source": [
    "for s in selected_words:\n",
    "    ss=amazon_product_copy[s].sum()\n",
    "    print(ss)"
   ]
  },
  {
   "cell_type": "code",
   "execution_count": null,
   "metadata": {},
   "outputs": [],
   "source": [
    "##train data and test data formation for selected_words model"
   ]
  },
  {
   "cell_type": "code",
   "execution_count": 52,
   "metadata": {},
   "outputs": [],
   "source": [
    "train_data1,test_data1=amazon_product_copy.random_split(0.8,seed=0)"
   ]
  },
  {
   "cell_type": "code",
   "execution_count": null,
   "metadata": {},
   "outputs": [],
   "source": [
    "##building model using selected words as feature"
   ]
  },
  {
   "cell_type": "code",
   "execution_count": 53,
   "metadata": {},
   "outputs": [
    {
     "data": {
      "text/html": [
       "<pre>Logistic regression:</pre>"
      ],
      "text/plain": [
       "Logistic regression:"
      ]
     },
     "metadata": {},
     "output_type": "display_data"
    },
    {
     "data": {
      "text/html": [
       "<pre>--------------------------------------------------------</pre>"
      ],
      "text/plain": [
       "--------------------------------------------------------"
      ]
     },
     "metadata": {},
     "output_type": "display_data"
    },
    {
     "data": {
      "text/html": [
       "<pre>Number of examples          : 133448</pre>"
      ],
      "text/plain": [
       "Number of examples          : 133448"
      ]
     },
     "metadata": {},
     "output_type": "display_data"
    },
    {
     "data": {
      "text/html": [
       "<pre>Number of classes           : 2</pre>"
      ],
      "text/plain": [
       "Number of classes           : 2"
      ]
     },
     "metadata": {},
     "output_type": "display_data"
    },
    {
     "data": {
      "text/html": [
       "<pre>Number of feature columns   : 11</pre>"
      ],
      "text/plain": [
       "Number of feature columns   : 11"
      ]
     },
     "metadata": {},
     "output_type": "display_data"
    },
    {
     "data": {
      "text/html": [
       "<pre>Number of unpacked features : 11</pre>"
      ],
      "text/plain": [
       "Number of unpacked features : 11"
      ]
     },
     "metadata": {},
     "output_type": "display_data"
    },
    {
     "data": {
      "text/html": [
       "<pre>Number of coefficients      : 12</pre>"
      ],
      "text/plain": [
       "Number of coefficients      : 12"
      ]
     },
     "metadata": {},
     "output_type": "display_data"
    },
    {
     "data": {
      "text/html": [
       "<pre>Starting Newton Method</pre>"
      ],
      "text/plain": [
       "Starting Newton Method"
      ]
     },
     "metadata": {},
     "output_type": "display_data"
    },
    {
     "data": {
      "text/html": [
       "<pre>--------------------------------------------------------</pre>"
      ],
      "text/plain": [
       "--------------------------------------------------------"
      ]
     },
     "metadata": {},
     "output_type": "display_data"
    },
    {
     "data": {
      "text/html": [
       "<pre>+-----------+----------+--------------+-------------------+---------------------+</pre>"
      ],
      "text/plain": [
       "+-----------+----------+--------------+-------------------+---------------------+"
      ]
     },
     "metadata": {},
     "output_type": "display_data"
    },
    {
     "data": {
      "text/html": [
       "<pre>| Iteration | Passes   | Elapsed Time | Training Accuracy | Validation Accuracy |</pre>"
      ],
      "text/plain": [
       "| Iteration | Passes   | Elapsed Time | Training Accuracy | Validation Accuracy |"
      ]
     },
     "metadata": {},
     "output_type": "display_data"
    },
    {
     "data": {
      "text/html": [
       "<pre>+-----------+----------+--------------+-------------------+---------------------+</pre>"
      ],
      "text/plain": [
       "+-----------+----------+--------------+-------------------+---------------------+"
      ]
     },
     "metadata": {},
     "output_type": "display_data"
    },
    {
     "data": {
      "text/html": [
       "<pre>| 1         | 2        | 0.400268     | 0.847401          | 0.845874            |</pre>"
      ],
      "text/plain": [
       "| 1         | 2        | 0.400268     | 0.847401          | 0.845874            |"
      ]
     },
     "metadata": {},
     "output_type": "display_data"
    },
    {
     "data": {
      "text/html": [
       "<pre>| 2         | 3        | 0.624831     | 0.847514          | 0.846085            |</pre>"
      ],
      "text/plain": [
       "| 2         | 3        | 0.624831     | 0.847514          | 0.846085            |"
      ]
     },
     "metadata": {},
     "output_type": "display_data"
    },
    {
     "data": {
      "text/html": [
       "<pre>| 3         | 4        | 0.792272     | 0.847626          | 0.846115            |</pre>"
      ],
      "text/plain": [
       "| 3         | 4        | 0.792272     | 0.847626          | 0.846115            |"
      ]
     },
     "metadata": {},
     "output_type": "display_data"
    },
    {
     "data": {
      "text/html": [
       "<pre>| 4         | 5        | 0.961813     | 0.847708          | 0.846385            |</pre>"
      ],
      "text/plain": [
       "| 4         | 5        | 0.961813     | 0.847708          | 0.846385            |"
      ]
     },
     "metadata": {},
     "output_type": "display_data"
    },
    {
     "data": {
      "text/html": [
       "<pre>| 5         | 6        | 1.138409     | 0.847708          | 0.846385            |</pre>"
      ],
      "text/plain": [
       "| 5         | 6        | 1.138409     | 0.847708          | 0.846385            |"
      ]
     },
     "metadata": {},
     "output_type": "display_data"
    },
    {
     "data": {
      "text/html": [
       "<pre>| 6         | 7        | 1.314889     | 0.847708          | 0.846385            |</pre>"
      ],
      "text/plain": [
       "| 6         | 7        | 1.314889     | 0.847708          | 0.846385            |"
      ]
     },
     "metadata": {},
     "output_type": "display_data"
    },
    {
     "data": {
      "text/html": [
       "<pre>+-----------+----------+--------------+-------------------+---------------------+</pre>"
      ],
      "text/plain": [
       "+-----------+----------+--------------+-------------------+---------------------+"
      ]
     },
     "metadata": {},
     "output_type": "display_data"
    },
    {
     "data": {
      "text/html": [
       "<pre>SUCCESS: Optimal solution found.</pre>"
      ],
      "text/plain": [
       "SUCCESS: Optimal solution found."
      ]
     },
     "metadata": {},
     "output_type": "display_data"
    },
    {
     "data": {
      "text/html": [
       "<pre></pre>"
      ],
      "text/plain": []
     },
     "metadata": {},
     "output_type": "display_data"
    }
   ],
   "source": [
    "selected_words_model=turicreate.logistic_classifier.create(train_data1,features=selected_words,target='sentiments',validation_set=test_data1)"
   ]
  },
  {
   "cell_type": "code",
   "execution_count": null,
   "metadata": {},
   "outputs": [],
   "source": [
    "##prediction"
   ]
  },
  {
   "cell_type": "code",
   "execution_count": 137,
   "metadata": {},
   "outputs": [],
   "source": [
    "amazon_product_copy['selected_words_model_prediction']=selected_words_model.predict(amazon_product_copy)"
   ]
  },
  {
   "cell_type": "code",
   "execution_count": 138,
   "metadata": {},
   "outputs": [
    {
     "name": "stdout",
     "output_type": "stream",
     "text": [
      "+-------------------------------+-------------------------------+--------+\n",
      "|              name             |             review            | rating |\n",
      "+-------------------------------+-------------------------------+--------+\n",
      "|     Planetwise Wipe Pouch     | it came early and was not ... |  5.0   |\n",
      "| Annas Dream Full Quilt wit... | Very soft and comfortable ... |  5.0   |\n",
      "| Stop Pacifier Sucking with... | This is a product well wor... |  5.0   |\n",
      "| Stop Pacifier Sucking with... | All of my kids have cried ... |  5.0   |\n",
      "| Stop Pacifier Sucking with... | When the Binky Fairy came ... |  5.0   |\n",
      "+-------------------------------+-------------------------------+--------+\n",
      "+-------------------------------+------------+------------+------------------------+\n",
      "|           word_count          | sentiments | prediction | prediction_probability |\n",
      "+-------------------------------+------------+------------+------------------------+\n",
      "| {'recommend': 1.0, 'highly... |     1      |     1      |   0.9985020242912401   |\n",
      "| {'quilt': 1.0, 'of': 1.0, ... |     1      |     1      |   0.9974729428544233   |\n",
      "| {'tool': 1.0, 'clever': 1.... |     1      |     1      |   0.9999809698192135   |\n",
      "| {'rock': 1.0, 'many': 1.0,... |     1      |     1      |   0.9999949379290837   |\n",
      "| {'thumb': 1.0, 'or': 1.0, ... |     1      |     1      |   0.999999900673807    |\n",
      "+-------------------------------+------------+------------+------------------------+\n",
      "+---------------+-------------+-----------------+---------------+------------+\n",
      "| awesome_count | great_count | fantastic_count | amazing_count | love_count |\n",
      "+---------------+-------------+-----------------+---------------+------------+\n",
      "|      0.0      |     0.0     |       0.0       |      0.0      |    1.0     |\n",
      "|      0.0      |     0.0     |       0.0       |      0.0      |    0.0     |\n",
      "|      0.0      |     0.0     |       0.0       |      0.0      |    2.0     |\n",
      "|      0.0      |     1.0     |       0.0       |      0.0      |    1.0     |\n",
      "|      0.0      |     1.0     |       0.0       |      0.0      |    0.0     |\n",
      "+---------------+-------------+-----------------+---------------+------------+\n",
      "+----------------+-----------+----------------+-------------+-----------+------------+\n",
      "| horrible_count | bad_count | terrible_count | awful_count | wow_count | hate_count |\n",
      "+----------------+-----------+----------------+-------------+-----------+------------+\n",
      "|      0.0       |    0.0    |      0.0       |     0.0     |    0.0    |    0.0     |\n",
      "|      0.0       |    0.0    |      0.0       |     0.0     |    0.0    |    0.0     |\n",
      "|      0.0       |    0.0    |      0.0       |     0.0     |    0.0    |    0.0     |\n",
      "|      0.0       |    0.0    |      0.0       |     0.0     |    0.0    |    0.0     |\n",
      "|      0.0       |    0.0    |      0.0       |     0.0     |    0.0    |    0.0     |\n",
      "+----------------+-----------+----------------+-------------+-----------+------------+\n",
      "+-------------------------------+\n",
      "| selected_words_model_predi... |\n",
      "+-------------------------------+\n",
      "|               1               |\n",
      "|               1               |\n",
      "|               1               |\n",
      "|               1               |\n",
      "|               1               |\n",
      "+-------------------------------+\n",
      "[5 rows x 19 columns]\n",
      "\n"
     ]
    }
   ],
   "source": [
    "print(amazon_product_copy.head(5))"
   ]
  },
  {
   "cell_type": "code",
   "execution_count": null,
   "metadata": {},
   "outputs": [],
   "source": [
    "##calculating the probablity of prediction"
   ]
  },
  {
   "cell_type": "code",
   "execution_count": 54,
   "metadata": {},
   "outputs": [],
   "source": [
    "amazon_product_copy['selected_words_model_prediction_probability']=selected_words_model.predict(amazon_product_copy,output_type='probability')"
   ]
  },
  {
   "cell_type": "code",
   "execution_count": 56,
   "metadata": {
    "scrolled": true
   },
   "outputs": [
    {
     "name": "stdout",
     "output_type": "stream",
     "text": [
      "+-------------------------------+-------------------------------+--------+\n",
      "|              name             |             review            | rating |\n",
      "+-------------------------------+-------------------------------+--------+\n",
      "|     Planetwise Wipe Pouch     | it came early and was not ... |  5.0   |\n",
      "| Annas Dream Full Quilt wit... | Very soft and comfortable ... |  5.0   |\n",
      "| Stop Pacifier Sucking with... | This is a product well wor... |  5.0   |\n",
      "| Stop Pacifier Sucking with... | All of my kids have cried ... |  5.0   |\n",
      "| Stop Pacifier Sucking with... | When the Binky Fairy came ... |  5.0   |\n",
      "+-------------------------------+-------------------------------+--------+\n",
      "+-------------------------------+------------+------------+------------------------+\n",
      "|           word_count          | sentiments | prediction | prediction_probability |\n",
      "+-------------------------------+------------+------------+------------------------+\n",
      "| {'recommend': 1.0, 'highly... |     1      |     1      |   0.9997307390047091   |\n",
      "| {'quilt': 1.0, 'of': 1.0, ... |     1      |     1      |   0.998508336831661    |\n",
      "| {'tool': 1.0, 'clever': 1.... |     1      |     1      |   0.9997489042499881   |\n",
      "| {'rock': 1.0, 'many': 1.0,... |     1      |     1      |   0.9999916625399973   |\n",
      "| {'thumb': 1.0, 'or': 1.0, ... |     1      |     1      |   0.9999999514462167   |\n",
      "+-------------------------------+------------+------------+------------------------+\n",
      "+---------------+-------------+-----------------+---------------+------------+\n",
      "| awesome_count | great_count | fantastic_count | amazing_count | love_count |\n",
      "+---------------+-------------+-----------------+---------------+------------+\n",
      "|      0.0      |     0.0     |       0.0       |      0.0      |    1.0     |\n",
      "|      0.0      |     0.0     |       0.0       |      0.0      |    0.0     |\n",
      "|      0.0      |     0.0     |       0.0       |      0.0      |    2.0     |\n",
      "|      0.0      |     1.0     |       0.0       |      0.0      |    1.0     |\n",
      "|      0.0      |     1.0     |       0.0       |      0.0      |    0.0     |\n",
      "+---------------+-------------+-----------------+---------------+------------+\n",
      "+----------------+-----------+----------------+-------------+-----------+------------+\n",
      "| horrible_count | bad_count | terrible_count | awful_count | wow_count | hate_count |\n",
      "+----------------+-----------+----------------+-------------+-----------+------------+\n",
      "|      0.0       |    0.0    |      0.0       |     0.0     |    0.0    |    0.0     |\n",
      "|      0.0       |    0.0    |      0.0       |     0.0     |    0.0    |    0.0     |\n",
      "|      0.0       |    0.0    |      0.0       |     0.0     |    0.0    |    0.0     |\n",
      "|      0.0       |    0.0    |      0.0       |     0.0     |    0.0    |    0.0     |\n",
      "|      0.0       |    0.0    |      0.0       |     0.0     |    0.0    |    0.0     |\n",
      "+----------------+-----------+----------------+-------------+-----------+------------+\n",
      "+-------------------------------+\n",
      "| selected_words_model_predi... |\n",
      "+-------------------------------+\n",
      "|       0.9367819244799374      |\n",
      "|       0.7919288370624482      |\n",
      "|       0.9829620803909052      |\n",
      "|       0.9723186788855888      |\n",
      "|       0.900218694809364       |\n",
      "+-------------------------------+\n",
      "[5 rows x 19 columns]\n",
      "\n"
     ]
    }
   ],
   "source": [
    "print(amazon_product_copy.head(5))"
   ]
  },
  {
   "cell_type": "code",
   "execution_count": null,
   "metadata": {},
   "outputs": [],
   "source": [
    "##calculating coeficient(weight) of selected_words_model"
   ]
  },
  {
   "cell_type": "code",
   "execution_count": 147,
   "metadata": {},
   "outputs": [
    {
     "data": {
      "text/html": [
       "<div style=\"max-height:1000px;max-width:1500px;overflow:auto;\"><table frame=\"box\" rules=\"cols\">\n",
       "    <tr>\n",
       "        <th style=\"padding-left: 1em; padding-right: 1em; text-align: center\">name</th>\n",
       "        <th style=\"padding-left: 1em; padding-right: 1em; text-align: center\">index</th>\n",
       "        <th style=\"padding-left: 1em; padding-right: 1em; text-align: center\">class</th>\n",
       "        <th style=\"padding-left: 1em; padding-right: 1em; text-align: center\">value</th>\n",
       "        <th style=\"padding-left: 1em; padding-right: 1em; text-align: center\">stderr</th>\n",
       "    </tr>\n",
       "    <tr>\n",
       "        <td style=\"padding-left: 1em; padding-right: 1em; text-align: center; vertical-align: top\">(intercept)</td>\n",
       "        <td style=\"padding-left: 1em; padding-right: 1em; text-align: center; vertical-align: top\">None</td>\n",
       "        <td style=\"padding-left: 1em; padding-right: 1em; text-align: center; vertical-align: top\">1</td>\n",
       "        <td style=\"padding-left: 1em; padding-right: 1em; text-align: center; vertical-align: top\">1.329545304994927</td>\n",
       "        <td style=\"padding-left: 1em; padding-right: 1em; text-align: center; vertical-align: top\">0.008176272551664893</td>\n",
       "    </tr>\n",
       "    <tr>\n",
       "        <td style=\"padding-left: 1em; padding-right: 1em; text-align: center; vertical-align: top\">awesome_count</td>\n",
       "        <td style=\"padding-left: 1em; padding-right: 1em; text-align: center; vertical-align: top\">None</td>\n",
       "        <td style=\"padding-left: 1em; padding-right: 1em; text-align: center; vertical-align: top\">1</td>\n",
       "        <td style=\"padding-left: 1em; padding-right: 1em; text-align: center; vertical-align: top\">1.152847937308237</td>\n",
       "        <td style=\"padding-left: 1em; padding-right: 1em; text-align: center; vertical-align: top\">0.0781562457786573</td>\n",
       "    </tr>\n",
       "    <tr>\n",
       "        <td style=\"padding-left: 1em; padding-right: 1em; text-align: center; vertical-align: top\">great_count</td>\n",
       "        <td style=\"padding-left: 1em; padding-right: 1em; text-align: center; vertical-align: top\">None</td>\n",
       "        <td style=\"padding-left: 1em; padding-right: 1em; text-align: center; vertical-align: top\">1</td>\n",
       "        <td style=\"padding-left: 1em; padding-right: 1em; text-align: center; vertical-align: top\">0.8668528546107971</td>\n",
       "        <td style=\"padding-left: 1em; padding-right: 1em; text-align: center; vertical-align: top\">0.017421859281411545</td>\n",
       "    </tr>\n",
       "    <tr>\n",
       "        <td style=\"padding-left: 1em; padding-right: 1em; text-align: center; vertical-align: top\">fantastic_count</td>\n",
       "        <td style=\"padding-left: 1em; padding-right: 1em; text-align: center; vertical-align: top\">None</td>\n",
       "        <td style=\"padding-left: 1em; padding-right: 1em; text-align: center; vertical-align: top\">1</td>\n",
       "        <td style=\"padding-left: 1em; padding-right: 1em; text-align: center; vertical-align: top\">0.9556750256995346</td>\n",
       "        <td style=\"padding-left: 1em; padding-right: 1em; text-align: center; vertical-align: top\">0.10736209204516933</td>\n",
       "    </tr>\n",
       "    <tr>\n",
       "        <td style=\"padding-left: 1em; padding-right: 1em; text-align: center; vertical-align: top\">amazing_count</td>\n",
       "        <td style=\"padding-left: 1em; padding-right: 1em; text-align: center; vertical-align: top\">None</td>\n",
       "        <td style=\"padding-left: 1em; padding-right: 1em; text-align: center; vertical-align: top\">1</td>\n",
       "        <td style=\"padding-left: 1em; padding-right: 1em; text-align: center; vertical-align: top\">1.0614369996807569</td>\n",
       "        <td style=\"padding-left: 1em; padding-right: 1em; text-align: center; vertical-align: top\">0.09008954316990249</td>\n",
       "    </tr>\n",
       "    <tr>\n",
       "        <td style=\"padding-left: 1em; padding-right: 1em; text-align: center; vertical-align: top\">love_count</td>\n",
       "        <td style=\"padding-left: 1em; padding-right: 1em; text-align: center; vertical-align: top\">None</td>\n",
       "        <td style=\"padding-left: 1em; padding-right: 1em; text-align: center; vertical-align: top\">1</td>\n",
       "        <td style=\"padding-left: 1em; padding-right: 1em; text-align: center; vertical-align: top\">1.3977325712155964</td>\n",
       "        <td style=\"padding-left: 1em; padding-right: 1em; text-align: center; vertical-align: top\">0.026138875244665242</td>\n",
       "    </tr>\n",
       "    <tr>\n",
       "        <td style=\"padding-left: 1em; padding-right: 1em; text-align: center; vertical-align: top\">horrible_count</td>\n",
       "        <td style=\"padding-left: 1em; padding-right: 1em; text-align: center; vertical-align: top\">None</td>\n",
       "        <td style=\"padding-left: 1em; padding-right: 1em; text-align: center; vertical-align: top\">1</td>\n",
       "        <td style=\"padding-left: 1em; padding-right: 1em; text-align: center; vertical-align: top\">-2.300055121354012</td>\n",
       "        <td style=\"padding-left: 1em; padding-right: 1em; text-align: center; vertical-align: top\">0.07413845469034198</td>\n",
       "    </tr>\n",
       "    <tr>\n",
       "        <td style=\"padding-left: 1em; padding-right: 1em; text-align: center; vertical-align: top\">bad_count</td>\n",
       "        <td style=\"padding-left: 1em; padding-right: 1em; text-align: center; vertical-align: top\">None</td>\n",
       "        <td style=\"padding-left: 1em; padding-right: 1em; text-align: center; vertical-align: top\">1</td>\n",
       "        <td style=\"padding-left: 1em; padding-right: 1em; text-align: center; vertical-align: top\">-0.972349134646636</td>\n",
       "        <td style=\"padding-left: 1em; padding-right: 1em; text-align: center; vertical-align: top\">0.03516014596247344</td>\n",
       "    </tr>\n",
       "    <tr>\n",
       "        <td style=\"padding-left: 1em; padding-right: 1em; text-align: center; vertical-align: top\">terrible_count</td>\n",
       "        <td style=\"padding-left: 1em; padding-right: 1em; text-align: center; vertical-align: top\">None</td>\n",
       "        <td style=\"padding-left: 1em; padding-right: 1em; text-align: center; vertical-align: top\">1</td>\n",
       "        <td style=\"padding-left: 1em; padding-right: 1em; text-align: center; vertical-align: top\">-2.231138069037879</td>\n",
       "        <td style=\"padding-left: 1em; padding-right: 1em; text-align: center; vertical-align: top\">0.07161634150875831</td>\n",
       "    </tr>\n",
       "    <tr>\n",
       "        <td style=\"padding-left: 1em; padding-right: 1em; text-align: center; vertical-align: top\">awful_count</td>\n",
       "        <td style=\"padding-left: 1em; padding-right: 1em; text-align: center; vertical-align: top\">None</td>\n",
       "        <td style=\"padding-left: 1em; padding-right: 1em; text-align: center; vertical-align: top\">1</td>\n",
       "        <td style=\"padding-left: 1em; padding-right: 1em; text-align: center; vertical-align: top\">-2.038483109822612</td>\n",
       "        <td style=\"padding-left: 1em; padding-right: 1em; text-align: center; vertical-align: top\">0.09351005400686169</td>\n",
       "    </tr>\n",
       "</table>\n",
       "[12 rows x 5 columns]<br/>Note: Only the head of the SFrame is printed.<br/>You can use print_rows(num_rows=m, num_columns=n) to print more rows and columns.\n",
       "</div>"
      ],
      "text/plain": [
       "Columns:\n",
       "\tname\tstr\n",
       "\tindex\tstr\n",
       "\tclass\tint\n",
       "\tvalue\tfloat\n",
       "\tstderr\tfloat\n",
       "\n",
       "Rows: 12\n",
       "\n",
       "Data:\n",
       "+-----------------+-------+-------+--------------------+----------------------+\n",
       "|       name      | index | class |       value        |        stderr        |\n",
       "+-----------------+-------+-------+--------------------+----------------------+\n",
       "|   (intercept)   |  None |   1   | 1.329545304994927  | 0.008176272551664893 |\n",
       "|  awesome_count  |  None |   1   | 1.152847937308237  |  0.0781562457786573  |\n",
       "|   great_count   |  None |   1   | 0.8668528546107971 | 0.017421859281411545 |\n",
       "| fantastic_count |  None |   1   | 0.9556750256995346 | 0.10736209204516933  |\n",
       "|  amazing_count  |  None |   1   | 1.0614369996807569 | 0.09008954316990249  |\n",
       "|    love_count   |  None |   1   | 1.3977325712155964 | 0.026138875244665242 |\n",
       "|  horrible_count |  None |   1   | -2.300055121354012 | 0.07413845469034198  |\n",
       "|    bad_count    |  None |   1   | -0.972349134646636 | 0.03516014596247344  |\n",
       "|  terrible_count |  None |   1   | -2.231138069037879 | 0.07161634150875831  |\n",
       "|   awful_count   |  None |   1   | -2.038483109822612 | 0.09351005400686169  |\n",
       "+-----------------+-------+-------+--------------------+----------------------+\n",
       "[12 rows x 5 columns]\n",
       "Note: Only the head of the SFrame is printed.\n",
       "You can use print_rows(num_rows=m, num_columns=n) to print more rows and columns."
      ]
     },
     "execution_count": 147,
     "metadata": {},
     "output_type": "execute_result"
    }
   ],
   "source": [
    "selected_words_model.coefficients"
   ]
  }
 ],
 "metadata": {
  "kernelspec": {
   "display_name": "Python 3",
   "language": "python",
   "name": "python3"
  },
  "language_info": {
   "codemirror_mode": {
    "name": "ipython",
    "version": 3
   },
   "file_extension": ".py",
   "mimetype": "text/x-python",
   "name": "python",
   "nbconvert_exporter": "python",
   "pygments_lexer": "ipython3",
   "version": "3.7.3"
  }
 },
 "nbformat": 4,
 "nbformat_minor": 2
}
